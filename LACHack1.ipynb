{
 "metadata": {
  "name": "",
  "signature": "sha256:c69f99817f573f83f5c31ecd4e43eaa6a7991171f4be2f4dac6df62c3d0be78b"
 },
 "nbformat": 3,
 "nbformat_minor": 0,
 "worksheets": [
  {
   "cells": [
    {
     "cell_type": "code",
     "collapsed": false,
     "input": [
      "import pandas as pd"
     ],
     "language": "python",
     "metadata": {},
     "outputs": [],
     "prompt_number": 1
    },
    {
     "cell_type": "code",
     "collapsed": false,
     "input": [
      "import pandas as pd\n",
      "df1 = pd.read_excel('Civil society.xlsx')\n",
      "df2 = pd.read_excel('Domestic Violence.xlsx')\n",
      "df3 = pd.read_excel('Drugs.xlsx')\n",
      "df4 = pd.read_excel('Education.xlsx')\n",
      "df5 = pd.read_excel('Government.xlsx')\n",
      "df6 = pd.read_excel('GT-Extortion.xlsx')\n",
      "df7 = pd.read_excel('GT-Kidnapping.xlsx')\n",
      "df8 = pd.read_excel('GT-Killing.xlsx')\n",
      "df9 = pd.read_excel('GT-Pandillas.xlsx')\n",
      "df10 = pd.read_excel('HN-Extortion.xlsx')\n",
      "df11 = pd.read_excel('HN-Killing.xlsx')\n",
      "df12 = pd.readexcel('HN-Pandillas.xlsx')\n",
      "df13 = pd.read_excel('Justice and Security.xlsx')\n",
      "df14 = pd.read_excel('Migration.xlsx')\n",
      "df15 = pd.read_excel('Public transportation.xlsx')\n",
      "df16 = pd.read_excel('SV-Extortion.xlsx')\n",
      "df17 = pd.read_excel('SV-Killing.xlsx')\n",
      "df18 = pd.read_excel('SV-Pandillas.xlsx')\n",
      "df19 = pd.read_excel('Unemployment.xlsx')\n",
      "df20 = pd.read_excel('Weapons.xlsx')\n"
     ],
     "language": "python",
     "metadata": {},
     "outputs": []
    },
    {
     "cell_type": "code",
     "collapsed": false,
     "input": [],
     "language": "python",
     "metadata": {},
     "outputs": [
      {
       "output_type": "stream",
       "stream": "stdout",
       "text": [
        "hello world\n"
       ]
      }
     ],
     "prompt_number": 2
    },
    {
     "cell_type": "code",
     "collapsed": false,
     "input": [],
     "language": "python",
     "metadata": {},
     "outputs": []
    }
   ],
   "metadata": {}
  }
 ]
}