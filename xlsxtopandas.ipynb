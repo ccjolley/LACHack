{
 "metadata": {
  "name": "",
  "signature": "sha256:0e6580377b6e6e3ecce644004fd7c4771c7ecf99b1dc1506ce9af1fe34079911"
 },
 "nbformat": 3,
 "nbformat_minor": 0,
 "worksheets": [
  {
   "cells": [
    {
     "cell_type": "code",
     "collapsed": false,
     "input": [
      "import pandas as pd"
     ],
     "language": "python",
     "metadata": {},
     "outputs": [],
     "prompt_number": 1
    },
    {
     "cell_type": "code",
     "collapsed": false,
     "input": [
      "\n",
      "df1 = pd.read_excel('Civil society.xlsx')\n",
      "df2 = pd.read_excel('Domestic Violence.xlsx')\n",
      "df3 = pd.read_excel('Drugs.xlsx')\n",
      "df4 = pd.read_excel('Education.xlsx')\n",
      "df5 = pd.read_excel('Government.xlsx')\n",
      "df6 = pd.read_excel('GT-Extortion.xlsx')\n",
      "df7 = pd.read_excel('GT-Kidnapping.xlsx')\n",
      "df8 = pd.read_excel('GT-Killing.xlsx')\n",
      "df9 = pd.read_excel('GT-Pandillas.xlsx')\n",
      "df10 = pd.read_excel('HN-Extortion.xlsx')\n",
      "df11 = pd.read_excel('HN-Killing.xlsx')\n",
      "df12 = pd.readexcel('HN-Pandillas.xlsx')\n",
      "df13 = pd.read_excel('Justice and Security.xlsx')\n",
      "df14 = pd.read_excel('Migration.xlsx')\n",
      "df15 = pd.read_excel('Public transportation.xlsx')\n",
      "df16 = pd.read_excel('SV-Extortion.xlsx')\n",
      "df17 = pd.read_excel('SV-Killing.xlsx')\n",
      "df18 = pd.read_excel('SV-Pandillas.xlsx')\n",
      "df19 = pd.read_excel('Unemployment.xlsx')\n",
      "df20 = pd.read_excel('Weapons.xlsx')\n"
     ],
     "language": "python",
     "metadata": {},
     "outputs": []
    },
    {
     "cell_type": "code",
     "collapsed": false,
     "input": [],
     "language": "python",
     "metadata": {},
     "outputs": [],
     "prompt_number": 2
    },
    {
     "cell_type": "code",
     "collapsed": false,
     "input": [],
     "language": "python",
     "metadata": {},
     "outputs": []
    }
   ],
   "metadata": {}
  }
 ]
}